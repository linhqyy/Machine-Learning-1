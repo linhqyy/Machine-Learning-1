{
  "nbformat": 4,
  "nbformat_minor": 0,
  "metadata": {
    "colab": {
      "provenance": []
    },
    "kernelspec": {
      "name": "python3",
      "display_name": "Python 3"
    },
    "language_info": {
      "name": "python"
    }
  },
  "cells": [
    {
      "cell_type": "code",
      "execution_count": 1,
      "metadata": {
        "id": "GTq2tWI6QKZq"
      },
      "outputs": [],
      "source": [
        "import numpy as np\n",
        "import pandas as pd\n",
        "import matplotlib.pyplot as plt"
      ]
    },
    {
      "cell_type": "code",
      "source": [
        "# 2\n",
        "class LogisticRegression:\n",
        "  def __init__(self, learning_rate, iterations):\n",
        "    self.learning_rate = learning_rate\n",
        "    self.iterations = iterations\n",
        "\n",
        "  def sigmoid(self, x):\n",
        "    return np.exp(x) / (1 + np.exp(x))\n",
        "\n",
        "  def transform_x(self, X):\n",
        "    intercept = np.ones((X.shape[0], 1))\n",
        "    return np.concatenate((intercept, X), axis=1)\n",
        "  \n",
        "  def fit(self, X, y):\n",
        "    self.X = self.transform_x(X)\n",
        "    self.W = np.zeros((X.shape[1]+1, 1))\n",
        "    self.cost = np.zeros((self.iterations, 1))\n",
        "    for i in range(self.iterations):\n",
        "      # Calculate the predicted value\n",
        "      y_predict = self.sigmoid(np.dot(self.X, self.W))\n",
        "      self.cost[i] = np.sum((-y * np.log(y_predict) - (1 - y) * np.log(1 - y_predict)))\n",
        "      # Gradient descent\n",
        "      gradient = np.dot(self.X.T, y_predict - y)\n",
        "      self.W -= self.learning_rate * gradient\n",
        "\n",
        "  def cost(self):\n",
        "    return self.cost\n",
        "  \n",
        "  def predict_prob(self, X):\n",
        "    return self.sigmoid(np.dot(self.transform_x(X), self.W))\n",
        "    \n",
        "  def predict(self, X):\n",
        "    return self.predict_prob(X).round()"
      ],
      "metadata": {
        "id": "3LiXKN0nUZDX"
      },
      "execution_count": 2,
      "outputs": []
    },
    {
      "cell_type": "code",
      "source": [
        "# 3\n",
        "data = pd.read_csv(\"https://raw.githubusercontent.com/nttuan8/DL_Tutorial/master/L2/dataset.csv\").values\n",
        "N, d = data.shape\n",
        "x = data[:, 0:d-1].reshape(-1, d-1)\n",
        "y = data[:, d-1].reshape(-1, 1)"
      ],
      "metadata": {
        "id": "hTIEfP5aTaje"
      },
      "execution_count": 3,
      "outputs": []
    },
    {
      "cell_type": "code",
      "source": [
        "plt.scatter(x[y[:, 0] == 0][:, 0], x[y[:, 0] == 0][:, 1], color='b', label='cho vay')\n",
        "plt.scatter(x[y[:, 0] == 1][:, 0], x[y[:, 0] == 1][:, 1], color='r', label='từ chối')\n",
        "plt.xlabel('mức lương')\n",
        "plt.ylabel('kinh nghiệm')\n",
        "plt.legend()"
      ],
      "metadata": {
        "colab": {
          "base_uri": "https://localhost:8080/",
          "height": 297
        },
        "id": "BpolxITwnLbQ",
        "outputId": "d1f8f2fb-158d-41e2-8cc6-3937f268ff08"
      },
      "execution_count": 4,
      "outputs": [
        {
          "output_type": "execute_result",
          "data": {
            "text/plain": [
              "<matplotlib.legend.Legend at 0x7fc019e8d950>"
            ]
          },
          "metadata": {},
          "execution_count": 4
        },
        {
          "output_type": "display_data",
          "data": {
            "text/plain": [
              "<Figure size 432x288 with 1 Axes>"
            ],
            "image/png": "[encoded data removed]"
          },
          "metadata": {
            "needs_background": "light"
          }
        }
      ]
    },
    {
      "cell_type": "code",
      "source": [
        "model = LogisticRegression(learning_rate=0.01, iterations=10000)\n",
        "model.fit(x, y)"
      ],
      "metadata": {
        "id": "p8Y0SGUckxUE"
      },
      "execution_count": 5,
      "outputs": []
    },
    {
      "cell_type": "code",
      "source": [
        "# 4\n",
        "x1_min, x1_max = x[:,0].min(), x[:,0].max(),\n",
        "x2_min, x2_max = x[:,1].min(), x[:,1].max(),\n",
        "xx1, xx2 = np.meshgrid(np.linspace(x1_min, x1_max), np.linspace(x2_min, x2_max))\n",
        "grid = np.c_[xx1.ravel(), xx2.ravel()]\n",
        "probs = model.predict_prob(grid).reshape(xx1.shape)\n",
        "plt.scatter(x[y[:, 0] == 0][:, 0], x[y[:, 0] == 0][:, 1], color='b', label='cho vay')\n",
        "plt.scatter(x[y[:, 0] == 1][:, 0], x[y[:, 0] == 1][:, 1], color='r', label='từ chối')\n",
        "plt.contour(xx1, xx2, probs, [0.5], linewidths=1, colors='g')\n",
        "plt.legend()"
      ],
      "metadata": {
        "colab": {
          "base_uri": "https://localhost:8080/",
          "height": 286
        },
        "id": "X7u_CzHvljjE",
        "outputId": "8a1b15fe-9f43-49fb-feb4-93d1796cd4e2"
      },
      "execution_count": 6,
      "outputs": [
        {
          "output_type": "execute_result",
          "data": {
            "text/plain": [
              "<matplotlib.legend.Legend at 0x7fc01973a5d0>"
            ]
          },
          "metadata": {},
          "execution_count": 6
        },
        {
          "output_type": "display_data",
          "data": {
            "text/plain": [
              "<Figure size 432x288 with 1 Axes>"
            ],
            "image/png": "[encoded data removed]"
          },
          "metadata": {
            "needs_background": "light"
          }
        }
      ]
    },
    {
      "cell_type": "code",
      "source": [],
      "metadata": {
        "id": "3kdXgC0hxD5y"
      },
      "execution_count": 6,
      "outputs": []
    }
  ]
}